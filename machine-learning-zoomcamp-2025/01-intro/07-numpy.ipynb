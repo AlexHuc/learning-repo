{
 "cells": [
  {
   "cell_type": "markdown",
   "id": "8830009d",
   "metadata": {},
   "source": [
    "## 1.7 Introduction to NumPy\n",
    "\n",
    "# Understanding Numpy: A Simple Introduction\n",
    "\n",
    "Numpy, short for Numerical Python, is a powerful Python library that enables efficient and convenient array manipulation and mathematical operations. It forms the foundation for many scientific and data-related tasks. In this article, we'll provide a straightforward explanation of Numpy concepts and how to use them.\n",
    "\n",
    "## Importing Numpy\n",
    "\n",
    "Before diving into Numpy's capabilities, we need to import it. Conventionally, we import Numpy with the alias `np`, making it easier to reference its functions:"
   ]
  },
  {
   "cell_type": "code",
   "execution_count": 1,
   "id": "5836ea81",
   "metadata": {},
   "outputs": [],
   "source": [
    "import numpy as np"
   ]
  },
  {
   "cell_type": "markdown",
   "id": "15982175",
   "metadata": {},
   "source": [
    "## Creating Arrays\n",
    "\n",
    "Arrays are the building blocks of Numpy, and they can be thought of as lists but with enhanced features.\n",
    "\n",
    "### Creating Arrays with Zeros, Ones, or Constants\n",
    "\n",
    "You can create arrays filled with zeros, ones, or any constant using `np.zeros()`, `np.ones()`, and `np.full()`:"
   ]
  },
  {
   "cell_type": "code",
   "execution_count": 5,
   "id": "64d1335a",
   "metadata": {},
   "outputs": [
    {
     "name": "stdout",
     "output_type": "stream",
     "text": [
      "[0. 0. 0. 0. 0. 0. 0. 0. 0. 0.]\n"
     ]
    }
   ],
   "source": [
    "zeros_array = np.zeros(10)\n",
    "print(zeros_array)"
   ]
  },
  {
   "cell_type": "code",
   "execution_count": 6,
   "id": "5115af09",
   "metadata": {},
   "outputs": [
    {
     "name": "stdout",
     "output_type": "stream",
     "text": [
      "[1. 1. 1. 1. 1. 1. 1. 1. 1. 1.]\n"
     ]
    }
   ],
   "source": [
    "ones_array = np.ones(10)\n",
    "print(ones_array)"
   ]
  },
  {
   "cell_type": "code",
   "execution_count": 7,
   "id": "8abc4d03",
   "metadata": {},
   "outputs": [
    {
     "name": "stdout",
     "output_type": "stream",
     "text": [
      "[3 3 3 3 3 3 3 3 3 3]\n"
     ]
    }
   ],
   "source": [
    "constant_array = np.full(10, 3)\n",
    "print(constant_array)"
   ]
  },
  {
   "cell_type": "markdown",
   "id": "2737588b",
   "metadata": {},
   "source": [
    "### Converting Lists to Arrays\n",
    "\n",
    "To convert a Python list into a Numpy array, you can use `np.array()`:"
   ]
  },
  {
   "cell_type": "code",
   "execution_count": 12,
   "id": "f84346b1",
   "metadata": {},
   "outputs": [
    {
     "name": "stdout",
     "output_type": "stream",
     "text": [
      "[2 3 4]\n"
     ]
    }
   ],
   "source": [
    "my_list = [2, 3, 4]\n",
    "array_from_list = np.array(my_list)\n",
    "print(array_from_list)"
   ]
  },
  {
   "cell_type": "markdown",
   "id": "3115949f",
   "metadata": {},
   "source": [
    "### Generating Ranges of Numbers\n",
    "\n",
    "Numpy provides functions for generating arrays of sequential numbers. For example:"
   ]
  },
  {
   "cell_type": "code",
   "execution_count": 13,
   "id": "a3f5bca6",
   "metadata": {},
   "outputs": [
    {
     "name": "stdout",
     "output_type": "stream",
     "text": [
      "[0 1 2 3 4 5 6 7 8 9]\n"
     ]
    }
   ],
   "source": [
    "range_array = np.arange(10)  # Creates an array from 0 to 9\n",
    "print(range_array)"
   ]
  },
  {
   "cell_type": "markdown",
   "id": "c0563a81",
   "metadata": {},
   "source": [
    "### Creating Arrays with Linear Spacing\n",
    "\n",
    "`np.linspace()` creates arrays with evenly spaced numbers within a specified range:"
   ]
  },
  {
   "cell_type": "code",
   "execution_count": 14,
   "id": "d5375eb7",
   "metadata": {},
   "outputs": [
    {
     "name": "stdout",
     "output_type": "stream",
     "text": [
      "[0.  0.1 0.2 0.3 0.4 0.5 0.6 0.7 0.8 0.9 1. ]\n"
     ]
    }
   ],
   "source": [
    "linspace_array = np.linspace(0, 1, 11)  # Creates 11 numbers from 0 to 1\n",
    "print(linspace_array)"
   ]
  },
  {
   "cell_type": "markdown",
   "id": "3f885a76",
   "metadata": {},
   "source": [
    "### Multi-dimensional Arrays\n",
    "\n",
    "Numpy can handle multi-dimensional arrays, often referred to as matrices. Here are some examples:"
   ]
  },
  {
   "cell_type": "code",
   "execution_count": 15,
   "id": "2eb9c28e",
   "metadata": {},
   "outputs": [
    {
     "name": "stdout",
     "output_type": "stream",
     "text": [
      "[[0. 0.]\n",
      " [0. 0.]\n",
      " [0. 0.]\n",
      " [0. 0.]\n",
      " [0. 0.]]\n"
     ]
    }
   ],
   "source": [
    "zeros_matrix = np.zeros((5, 2))\n",
    "print(zeros_matrix)"
   ]
  },
  {
   "cell_type": "code",
   "execution_count": 16,
   "id": "7bba929a",
   "metadata": {},
   "outputs": [
    {
     "name": "stdout",
     "output_type": "stream",
     "text": [
      "[[1. 1.]\n",
      " [1. 1.]\n",
      " [1. 1.]\n",
      " [1. 1.]\n",
      " [1. 1.]]\n"
     ]
    }
   ],
   "source": [
    "ones_matrix = np.ones((5, 2))\n",
    "print(ones_matrix)"
   ]
  },
  {
   "cell_type": "code",
   "execution_count": 17,
   "id": "f19fb3f2",
   "metadata": {},
   "outputs": [
    {
     "name": "stdout",
     "output_type": "stream",
     "text": [
      "[[3 3]\n",
      " [3 3]\n",
      " [3 3]\n",
      " [3 3]\n",
      " [3 3]]\n"
     ]
    }
   ],
   "source": [
    "constant_matrix = np.full((5, 2), 3)\n",
    "print(constant_matrix)"
   ]
  },
  {
   "cell_type": "markdown",
   "id": "ba56ab3b",
   "metadata": {},
   "source": [
    "## Indexing and Slicing Arrays\n",
    "\n",
    "Like Python lists, you can access elements in Numpy arrays using indexing and slicing. For two-dimensional arrays:"
   ]
  },
  {
   "cell_type": "code",
   "execution_count": 18,
   "id": "d873951b",
   "metadata": {},
   "outputs": [
    {
     "name": "stdout",
     "output_type": "stream",
     "text": [
      "[[2 3 4]\n",
      " [4 5 6]]\n"
     ]
    }
   ],
   "source": [
    "arr = np.array([[2, 3, 4], [4, 5, 6]])\n",
    "print(arr)"
   ]
  },
  {
   "cell_type": "code",
   "execution_count": 19,
   "id": "ca57ef19",
   "metadata": {},
   "outputs": [
    {
     "name": "stdout",
     "output_type": "stream",
     "text": [
      "[2 3 4]\n"
     ]
    }
   ],
   "source": [
    "first_row = arr[0]      # Gets the first row\n",
    "print(first_row)"
   ]
  },
  {
   "cell_type": "code",
   "execution_count": 20,
   "id": "baacb2da",
   "metadata": {},
   "outputs": [
    {
     "name": "stdout",
     "output_type": "stream",
     "text": [
      "[2 4]\n"
     ]
    }
   ],
   "source": [
    "first_col = arr[:, 0]  # Gets the first column\n",
    "print(first_col)"
   ]
  },
  {
   "cell_type": "markdown",
   "id": "87292d9b",
   "metadata": {},
   "source": [
    "## Generating Random Arrays\n",
    "\n",
    "Numpy can create arrays filled with random numbers. To ensure reproducibility, you can set a seed using `np.random.seed()`:"
   ]
  },
  {
   "cell_type": "code",
   "execution_count": 21,
   "id": "a0e92506",
   "metadata": {},
   "outputs": [
    {
     "name": "stdout",
     "output_type": "stream",
     "text": [
      "[[0.4359949  0.02592623]\n",
      " [0.54966248 0.43532239]\n",
      " [0.4203678  0.33033482]\n",
      " [0.20464863 0.61927097]\n",
      " [0.29965467 0.26682728]]\n"
     ]
    }
   ],
   "source": [
    "np.random.seed(2)  # Set the seed\n",
    "random_array = np.random.rand(5, 2)  # Generates random numbers between 0 and 1\n",
    "print(random_array)"
   ]
  },
  {
   "cell_type": "markdown",
   "id": "cbf8cdfc",
   "metadata": {},
   "source": [
    "For random numbers from a normal distribution or integers within a range:"
   ]
  },
  {
   "cell_type": "code",
   "execution_count": 22,
   "id": "36c528b6",
   "metadata": {},
   "outputs": [
    {
     "name": "stdout",
     "output_type": "stream",
     "text": [
      "[[83 31]\n",
      " [66 80]\n",
      " [52 76]\n",
      " [50  4]\n",
      " [90 63]]\n"
     ]
    }
   ],
   "source": [
    "normal_distribution = np.random.randn(5, 2)\n",
    "random_integers = np.random.randint(low=0, high=100, size=(5, 2))\n",
    "print(random_integers)"
   ]
  },
  {
   "cell_type": "markdown",
   "id": "390cab87",
   "metadata": {},
   "source": [
    "## Array Operations\n",
    "\n",
    "Numpy excels in performing mathematical operations on arrays efficiently.\n",
    "\n",
    "### Element-wise Operations\n",
    "\n",
    "You can perform operations on entire arrays element by element:"
   ]
  },
  {
   "cell_type": "code",
   "execution_count": 24,
   "id": "7fb41932",
   "metadata": {},
   "outputs": [
    {
     "name": "stdout",
     "output_type": "stream",
     "text": [
      "[[ 6  8 10]\n",
      " [10 12 14]]\n",
      "[[ 7  9 11]\n",
      " [11 13 15]]\n",
      "[[14 18 22]\n",
      " [22 26 30]]\n"
     ]
    }
   ],
   "source": [
    "print(arr)\n",
    "arr = arr + 1   # Adds 1 to each element\n",
    "print(arr)\n",
    "arr = arr * 2   # Multiplies each element by 2\n",
    "print(arr)\n",
    "# Similar operations for division and exponentiation"
   ]
  },
  {
   "cell_type": "markdown",
   "id": "c35a527d",
   "metadata": {},
   "source": [
    "### Element-wise Operations with Two Arrays\n",
    "\n",
    "You can also perform operations between two arrays of the same shape:"
   ]
  },
  {
   "cell_type": "code",
   "execution_count": 25,
   "id": "fb30fcdd",
   "metadata": {},
   "outputs": [],
   "source": [
    "arr1 = np.ones(4)\n",
    "arr2 = np.full(4, 3)\n",
    "result = arr1 + arr2  # Element-wise addition\n",
    "result = arr1 / arr2  # Element-wise division\n"
   ]
  },
  {
   "cell_type": "markdown",
   "id": "cb8755d5",
   "metadata": {},
   "source": [
    "### Comparison Operations\n",
    "\n",
    "You can perform element-wise comparisons and create boolean arrays:"
   ]
  },
  {
   "cell_type": "code",
   "execution_count": 27,
   "id": "280b9035",
   "metadata": {},
   "outputs": [
    {
     "name": "stdout",
     "output_type": "stream",
     "text": [
      "[False False  True  True]\n"
     ]
    }
   ],
   "source": [
    "arr = np.array([1, 2, 3, 4])\n",
    "greater_than_2 = arr > 2  # Produces [False, False, True, True]\n",
    "print(greater_than_2)"
   ]
  },
  {
   "cell_type": "markdown",
   "id": "02e3b6f9",
   "metadata": {},
   "source": [
    "### Selecting Elements Based on Conditions\n",
    "\n",
    "You can create subarrays based on certain conditions:"
   ]
  },
  {
   "cell_type": "code",
   "execution_count": 28,
   "id": "9ba5416e",
   "metadata": {},
   "outputs": [],
   "source": [
    "selected_elements = arr[arr > 1]  # Gets elements greater than 1"
   ]
  },
  {
   "cell_type": "markdown",
   "id": "81272506",
   "metadata": {},
   "source": [
    "## Summary Operations\n",
    "\n",
    "Numpy provides functions for summarizing array data:"
   ]
  },
  {
   "cell_type": "code",
   "execution_count": 30,
   "id": "18604f41",
   "metadata": {},
   "outputs": [
    {
     "name": "stdout",
     "output_type": "stream",
     "text": [
      "1\n",
      "4\n",
      "10\n",
      "2.5\n",
      "1.118033988749895\n"
     ]
    }
   ],
   "source": [
    "min_value = arr.min()    # Minimum value\n",
    "print(min_value)\n",
    "max_value = arr.max()    # Maximum value\n",
    "print(max_value)\n",
    "sum_value = arr.sum()    # Sum of all elements\n",
    "print(sum_value)\n",
    "mean_value = arr.mean()  # Mean (average) value\n",
    "print(mean_value)\n",
    "std_deviation = arr.std()  # Standard deviation\n",
    "print(std_deviation)"
   ]
  }
 ],
 "metadata": {
  "kernelspec": {
   "display_name": "mle_venv",
   "language": "python",
   "name": "python3"
  },
  "language_info": {
   "codemirror_mode": {
    "name": "ipython",
    "version": 3
   },
   "file_extension": ".py",
   "mimetype": "text/x-python",
   "name": "python",
   "nbconvert_exporter": "python",
   "pygments_lexer": "ipython3",
   "version": "3.12.6"
  }
 },
 "nbformat": 4,
 "nbformat_minor": 5
}
